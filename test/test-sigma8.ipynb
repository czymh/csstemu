{
 "cells": [
  {
   "cell_type": "code",
   "execution_count": 1,
   "metadata": {},
   "outputs": [],
   "source": [
    "%matplotlib inline\n",
    "%config InlineBackend.figure_format = 'retina'\n",
    "import matplotlib.pyplot as plt\n",
    "from matplotlib.colors import Normalize"
   ]
  },
  {
   "cell_type": "code",
   "execution_count": 2,
   "metadata": {},
   "outputs": [
    {
     "name": "stdout",
     "output_type": "stream",
     "text": [
      "Loading the Bkcb emulator...\n",
      "Using 129 training samples.\n",
      "Loading the Bkcb_halofit emulator...\n",
      "Using 129 training samples.\n",
      "Loading the PkcbLin emulator...\n",
      "Using 513 training samples.\n",
      "Loading the PknnLin emulator...\n",
      "Using 512 training samples [remove c0001 (no massive neutrino)].\n",
      "Loading the XihmNL emulator...\n",
      "Using 65 training samples.\n",
      "Loading the PkhmNL emulator...\n",
      "Using 65 training samples.\n"
     ]
    }
   ],
   "source": [
    "import numpy as np\n",
    "import sys\n",
    "sys.path.append('/home/chenzhao/csst/simulation/csstemu/')\n",
    "from CEmulator.Emulator import CEmulator\n",
    "csstemu = CEmulator(verbose=True)"
   ]
  },
  {
   "cell_type": "markdown",
   "metadata": {},
   "source": [
    "# $\\sigma_{8, \\mathrm{cb}}$\n",
    "$\\sigma_{8, \\mathrm{cb}}$ means the $\\sigma_8$ of the cb components (without the massive neutrino). When mnu = 0.0 eV, the $\\sigma_{8, \\mathrm{cb}}$ should be the same as $\\sigma_{8}$"
   ]
  },
  {
   "cell_type": "code",
   "execution_count": 3,
   "metadata": {},
   "outputs": [],
   "source": [
    "Ob = 0.05\n",
    "Oc = 0.25\n",
    "h = 0.7\n",
    "ns = 0.96\n",
    "As = 2.1e-9\n",
    "w0 = -1\n",
    "wa = 0\n",
    "mnu = 0.00\n",
    "csstemu.set_cosmos(Omegab=Ob, Omegac=Oc, As=As, mnu=mnu,\n",
    "                   H0=h*100, ns=ns, w=w0, wa=wa)"
   ]
  },
  {
   "cell_type": "code",
   "execution_count": 4,
   "metadata": {},
   "outputs": [
    {
     "name": "stdout",
     "output_type": "stream",
     "text": [
      "CPU times: user 4.76 ms, sys: 60 µs, total: 4.82 ms\n",
      "Wall time: 4.45 ms\n",
      "Emulator:  0.8256041397115501\n",
      "CPU times: user 5.95 s, sys: 75.8 ms, total: 6.02 s\n",
      "Wall time: 774 ms\n",
      "CAMB:      0.8251244044446654\n",
      "CPU times: user 2.18 s, sys: 14.4 ms, total: 2.19 s\n",
      "Wall time: 299 ms\n",
      "CLASS:     0.8250704348558016\n"
     ]
    }
   ],
   "source": [
    "%time sigma8_emulator = csstemu.get_sigma8_cb(type='Emulator')\n",
    "print('Emulator: ', sigma8_emulator)\n",
    "%time sigma8_camb     = csstemu.get_sigma8_cb(type='CAMB')\n",
    "print('CAMB:     ', sigma8_camb)\n",
    "%time sigma8_class    = csstemu.get_sigma8_cb(type='CLASS')\n",
    "print('CLASS:    ', sigma8_class)"
   ]
  },
  {
   "cell_type": "code",
   "execution_count": 5,
   "metadata": {},
   "outputs": [
    {
     "name": "stdout",
     "output_type": "stream",
     "text": [
      "Emulator/CAMB  1.0005814096205379\n",
      "Emulator/CLASS 1.0006468597506366\n",
      "CAMB/CLASS     1.0000654120988752\n"
     ]
    }
   ],
   "source": [
    "print('Emulator/CAMB ',  sigma8_emulator/sigma8_camb)\n",
    "print('Emulator/CLASS',  sigma8_emulator/sigma8_class)\n",
    "print('CAMB/CLASS    ',  sigma8_camb/sigma8_class)"
   ]
  },
  {
   "cell_type": "markdown",
   "metadata": {},
   "source": [
    "# $\\sigma_{8}$\n",
    "\n",
    "Commonly used $\\sigma_{8}$ include both the cb matter and massive neutrino component."
   ]
  },
  {
   "cell_type": "code",
   "execution_count": 6,
   "metadata": {},
   "outputs": [],
   "source": [
    "Ob = 0.05\n",
    "Oc = 0.25\n",
    "h = 0.7\n",
    "ns = 0.96\n",
    "As = 2.1e-9\n",
    "w0 = -1\n",
    "wa = 0\n",
    "mnu = 0.06\n",
    "csstemu.set_cosmos(Omegab=Ob, Omegac=Oc, As=As, mnu=mnu,\n",
    "                   H0=h*100, ns=ns, w=w0, wa=wa)"
   ]
  },
  {
   "cell_type": "code",
   "execution_count": 7,
   "metadata": {},
   "outputs": [
    {
     "name": "stdout",
     "output_type": "stream",
     "text": [
      "CPU times: user 7.12 ms, sys: 5 µs, total: 7.12 ms\n",
      "Wall time: 6.77 ms\n",
      "Emulator:  0.813383676213077\n",
      "CPU times: user 5.92 s, sys: 5.71 ms, total: 5.93 s\n",
      "Wall time: 723 ms\n",
      "CAMB:      0.8138252232299025\n",
      "CPU times: user 3.81 s, sys: 31.2 ms, total: 3.84 s\n",
      "Wall time: 668 ms\n",
      "CLASS:     0.8135117574801464\n"
     ]
    }
   ],
   "source": [
    "%time sigma8_emulator = csstemu.get_sigma8(type='Emulator')\n",
    "print('Emulator: ', sigma8_emulator)\n",
    "%time sigma8_camb     = csstemu.get_sigma8(type='CAMB')\n",
    "print('CAMB:     ', sigma8_camb)\n",
    "%time sigma8_class    = csstemu.get_sigma8(type='CLASS')\n",
    "print('CLASS:    ', sigma8_class)"
   ]
  },
  {
   "cell_type": "code",
   "execution_count": 8,
   "metadata": {},
   "outputs": [
    {
     "name": "stdout",
     "output_type": "stream",
     "text": [
      "Emulator/CAMB  0.9994574424529715\n",
      "Emulator/CLASS 0.9998425575710593\n",
      "CAMB/CLASS     1.0003853241786291\n"
     ]
    }
   ],
   "source": [
    "print('Emulator/CAMB ',  sigma8_emulator/sigma8_camb)\n",
    "print('Emulator/CLASS',  sigma8_emulator/sigma8_class)\n",
    "print('CAMB/CLASS    ',  sigma8_camb/sigma8_class)"
   ]
  },
  {
   "cell_type": "code",
   "execution_count": null,
   "metadata": {},
   "outputs": [],
   "source": []
  }
 ],
 "metadata": {
  "kernelspec": {
   "display_name": "csstemu-test",
   "language": "python",
   "name": "csstemu-test"
  },
  "language_info": {
   "codemirror_mode": {
    "name": "ipython",
    "version": 3
   },
   "file_extension": ".py",
   "mimetype": "text/x-python",
   "name": "python",
   "nbconvert_exporter": "python",
   "pygments_lexer": "ipython3",
   "version": "3.9.19"
  }
 },
 "nbformat": 4,
 "nbformat_minor": 2
}
