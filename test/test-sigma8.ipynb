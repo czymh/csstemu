{
 "cells": [
  {
   "cell_type": "code",
   "execution_count": 1,
   "metadata": {},
   "outputs": [],
   "source": [
    "%matplotlib inline\n",
    "%config InlineBackend.figure_format = 'retina'\n",
    "import matplotlib.pyplot as plt\n",
    "from matplotlib.colors import Normalize"
   ]
  },
  {
   "cell_type": "code",
   "execution_count": 2,
   "metadata": {},
   "outputs": [
    {
     "name": "stdout",
     "output_type": "stream",
     "text": [
      "Loading the Bkmm emulator...\n",
      "Using 129 training samples.\n",
      "Loading the Bkmm_halofit emulator...\n",
      "Using 129 training samples.\n",
      "Loading the PkcbLin emulator...\n",
      "Using 513 training samples.\n",
      "Loading the XihmNL emulator...\n",
      "Using 65 training samples.\n",
      "Loading the PkhmNL emulator...\n",
      "Using 65 training samples.\n"
     ]
    }
   ],
   "source": [
    "import numpy as np\n",
    "import sys\n",
    "sys.path.append('/home/chenzhao/csst/simulation/csstemu/')\n",
    "from CEmulator.Emulator import CEmulator\n",
    "csstemu = CEmulator(verbose=True)"
   ]
  },
  {
   "cell_type": "markdown",
   "metadata": {},
   "source": [
    "# $\\sigma_{8, \\mathrm{cb}}$\n",
    "$\\sigma_{8, \\mathrm{cb}}$ means the $\\sigma_8$ of the cb components (without the massive neutrino). When mnu = 0.0 eV, the $\\sigma_{8, \\mathrm{cb}}$ should be the same as $\\sigma_{8}$"
   ]
  },
  {
   "cell_type": "code",
   "execution_count": 3,
   "metadata": {},
   "outputs": [],
   "source": [
    "Ob = 0.05\n",
    "Oc = 0.25\n",
    "h = 0.7\n",
    "ns = 0.96\n",
    "As = 2.1e-9\n",
    "w0 = -1\n",
    "wa = 0\n",
    "mnu = 0.00\n",
    "csstemu.set_cosmos(Omegab=Ob, Omegac=Oc, As=As, mnu=mnu,\n",
    "                   H0=h*100, ns=ns, w=w0, wa=wa)"
   ]
  },
  {
   "cell_type": "code",
   "execution_count": 4,
   "metadata": {},
   "outputs": [
    {
     "name": "stdout",
     "output_type": "stream",
     "text": [
      "CPU times: user 8.66 ms, sys: 0 ns, total: 8.66 ms\n",
      "Wall time: 7.85 ms\n",
      "Emulator:  0.8256041400755819\n",
      "CPU times: user 2.94 s, sys: 33.8 ms, total: 2.97 s\n",
      "Wall time: 2.98 s\n",
      "CAMB:      0.8251244044446654\n",
      "CPU times: user 908 ms, sys: 966 µs, total: 909 ms\n",
      "Wall time: 910 ms\n",
      "CLASS:     0.8250463943162953\n"
     ]
    }
   ],
   "source": [
    "%time sigma8_emulator = csstemu.get_sigma8_cb(type='Emulator')\n",
    "print('Emulator: ', sigma8_emulator)\n",
    "%time sigma8_camb     = csstemu.get_sigma8_cb(type='CAMB')\n",
    "print('CAMB:     ', sigma8_camb)\n",
    "%time sigma8_class    = csstemu.get_sigma8_cb(type='CLASS')\n",
    "print('CLASS:    ', sigma8_class)"
   ]
  },
  {
   "cell_type": "code",
   "execution_count": 5,
   "metadata": {},
   "outputs": [
    {
     "name": "stdout",
     "output_type": "stream",
     "text": [
      "Emulator/CAMB  1.000581410061722\n",
      "Emulator/CLASS 1.000676017449599\n",
      "CAMB/CLASS     1.000094552414152\n"
     ]
    }
   ],
   "source": [
    "print('Emulator/CAMB ',  sigma8_emulator/sigma8_camb)\n",
    "print('Emulator/CLASS',  sigma8_emulator/sigma8_class)\n",
    "print('CAMB/CLASS    ',  sigma8_camb/sigma8_class)"
   ]
  },
  {
   "cell_type": "markdown",
   "metadata": {},
   "source": [
    "# $\\sigma_{8}$\n",
    "\n",
    "Commonly used $\\sigma_{8}$ include both the cb matter and massive neutrino component."
   ]
  },
  {
   "cell_type": "code",
   "execution_count": 3,
   "metadata": {},
   "outputs": [],
   "source": [
    "Ob = 0.05\n",
    "Oc = 0.25\n",
    "h = 0.7\n",
    "ns = 0.96\n",
    "As = 2.1e-9\n",
    "w0 = -1\n",
    "wa = 0\n",
    "mnu = 0.06\n",
    "csstemu.set_cosmos(Omegab=Ob, Omegac=Oc, As=As, mnu=mnu,\n",
    "                   H0=h*100, ns=ns, w=w0, wa=wa)"
   ]
  },
  {
   "cell_type": "code",
   "execution_count": 5,
   "metadata": {},
   "outputs": [
    {
     "ename": "ValueError",
     "evalue": "For sigma8, we need add the neutrino power emulation.",
     "output_type": "error",
     "traceback": [
      "\u001b[0;31m---------------------------------------------------------------------------\u001b[0m",
      "\u001b[0;31mValueError\u001b[0m                                Traceback (most recent call last)",
      "File \u001b[0;32m<timed exec>:1\u001b[0m\n",
      "File \u001b[0;32m~/csst/simulation/csstemu/CEmulator/Emulator.py:316\u001b[0m, in \u001b[0;36mCEmulator.get_sigma8\u001b[0;34m(self, type, cosmo_class, camb_results)\u001b[0m\n\u001b[1;32m    307\u001b[0m \u001b[38;5;28;01mdef\u001b[39;00m \u001b[38;5;21mget_sigma8\u001b[39m(\u001b[38;5;28mself\u001b[39m, \u001b[38;5;28mtype\u001b[39m\u001b[38;5;241m=\u001b[39m\u001b[38;5;124m'\u001b[39m\u001b[38;5;124mCLASS\u001b[39m\u001b[38;5;124m'\u001b[39m, cosmo_class\u001b[38;5;241m=\u001b[39m\u001b[38;5;28;01mNone\u001b[39;00m, camb_results\u001b[38;5;241m=\u001b[39m\u001b[38;5;28;01mNone\u001b[39;00m):\n\u001b[1;32m    308\u001b[0m \u001b[38;5;250m    \u001b[39m\u001b[38;5;124;03m'''\u001b[39;00m\n\u001b[1;32m    309\u001b[0m \u001b[38;5;124;03m    Get the sigma8 of tot matter.\u001b[39;00m\n\u001b[1;32m    310\u001b[0m \u001b[38;5;124;03m    \u001b[39;00m\n\u001b[0;32m   (...)\u001b[0m\n\u001b[1;32m    314\u001b[0m \u001b[38;5;124;03m        camb_results: CAMB results, if type is CAMB, then you can provide the CAMB object directly to avoid the repeated calculation for CAMB.\u001b[39;00m\n\u001b[1;32m    315\u001b[0m \u001b[38;5;124;03m    '''\u001b[39;00m\n\u001b[0;32m--> 316\u001b[0m     \u001b[38;5;28;01mreturn\u001b[39;00m \u001b[38;5;28;43mself\u001b[39;49m\u001b[38;5;241;43m.\u001b[39;49m\u001b[43mget_sigma_z\u001b[49m\u001b[43m(\u001b[49m\u001b[38;5;241;43m0\u001b[39;49m\u001b[43m,\u001b[49m\u001b[43m \u001b[49m\u001b[38;5;241;43m8.0\u001b[39;49m\u001b[43m,\u001b[49m\u001b[43m \u001b[49m\u001b[38;5;28;43mtype\u001b[39;49m\u001b[38;5;241;43m=\u001b[39;49m\u001b[38;5;28;43mtype\u001b[39;49m\u001b[43m,\u001b[49m\u001b[43m \u001b[49m\u001b[43mcosmo_class\u001b[49m\u001b[38;5;241;43m=\u001b[39;49m\u001b[43mcosmo_class\u001b[49m\u001b[43m,\u001b[49m\u001b[43m \u001b[49m\u001b[43mcamb_results\u001b[49m\u001b[38;5;241;43m=\u001b[39;49m\u001b[43mcamb_results\u001b[49m\u001b[43m)\u001b[49m\n",
      "File \u001b[0;32m~/csst/simulation/csstemu/CEmulator/Emulator.py:254\u001b[0m, in \u001b[0;36mCEmulator.get_sigma_z\u001b[0;34m(self, z, R, type, cosmo_class, camb_results)\u001b[0m\n\u001b[1;32m    251\u001b[0m     sigma \u001b[38;5;241m=\u001b[39m camb_results\u001b[38;5;241m.\u001b[39mget_sigmaR(R\u001b[38;5;241m=\u001b[39m\u001b[38;5;241m8.0\u001b[39m, z_indices\u001b[38;5;241m=\u001b[39mzind, hubble_units\u001b[38;5;241m=\u001b[39m\u001b[38;5;28;01mTrue\u001b[39;00m,\n\u001b[1;32m    252\u001b[0m                                     var1\u001b[38;5;241m=\u001b[39m\u001b[38;5;124m'\u001b[39m\u001b[38;5;124mdelta_tot\u001b[39m\u001b[38;5;124m'\u001b[39m, var2\u001b[38;5;241m=\u001b[39m\u001b[38;5;124m'\u001b[39m\u001b[38;5;124mdelta_tot\u001b[39m\u001b[38;5;124m'\u001b[39m)\n\u001b[1;32m    253\u001b[0m \u001b[38;5;28;01melif\u001b[39;00m \u001b[38;5;28mtype\u001b[39m \u001b[38;5;241m==\u001b[39m \u001b[38;5;124m'\u001b[39m\u001b[38;5;124mEmulator\u001b[39m\u001b[38;5;124m'\u001b[39m:\n\u001b[0;32m--> 254\u001b[0m     \u001b[38;5;28;01mraise\u001b[39;00m \u001b[38;5;167;01mValueError\u001b[39;00m(\u001b[38;5;124m'\u001b[39m\u001b[38;5;124mFor sigma8, we need add the neutrino power emulation.\u001b[39m\u001b[38;5;124m'\u001b[39m)\n\u001b[1;32m    255\u001b[0m \u001b[38;5;28;01melse\u001b[39;00m:\n\u001b[1;32m    256\u001b[0m     \u001b[38;5;28;01mraise\u001b[39;00m \u001b[38;5;167;01mValueError\u001b[39;00m(\u001b[38;5;124m'\u001b[39m\u001b[38;5;124mType \u001b[39m\u001b[38;5;132;01m%s\u001b[39;00m\u001b[38;5;124m not supported yet.\u001b[39m\u001b[38;5;124m'\u001b[39m\u001b[38;5;241m%\u001b[39m\u001b[38;5;28mtype\u001b[39m)\n",
      "\u001b[0;31mValueError\u001b[0m: For sigma8, we need add the neutrino power emulation."
     ]
    },
    {
     "name": "stdout",
     "output_type": "stream",
     "text": [
      "CPU times: user 4.56 s, sys: 29.3 ms, total: 4.59 s\n",
      "Wall time: 4.6 s\n",
      "CAMB:      0.8138252232299025\n",
      "CPU times: user 2.52 s, sys: 6.11 ms, total: 2.53 s\n",
      "Wall time: 2.54 s\n",
      "CLASS:     0.8134851389933717\n"
     ]
    }
   ],
   "source": [
    "%time sigma8_emulator = csstemu.get_sigma8(type='Emulator')\n",
    "# print('Emulator: ', sigma8_emulator)\n",
    "%time sigma8_camb     = csstemu.get_sigma8(type='CAMB')\n",
    "print('CAMB:     ', sigma8_camb)\n",
    "%time sigma8_class    = csstemu.get_sigma8(type='CLASS')\n",
    "print('CLASS:    ', sigma8_class)"
   ]
  },
  {
   "cell_type": "code",
   "execution_count": null,
   "metadata": {},
   "outputs": [],
   "source": []
  }
 ],
 "metadata": {
  "kernelspec": {
   "display_name": "czlsst",
   "language": "python",
   "name": "czlsst"
  }
 },
 "nbformat": 4,
 "nbformat_minor": 2
}
