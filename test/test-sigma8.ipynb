{
 "cells": [
  {
   "cell_type": "code",
   "execution_count": 1,
   "metadata": {},
   "outputs": [],
   "source": [
    "%matplotlib inline\n",
    "%config InlineBackend.figure_format = 'retina'\n",
    "import matplotlib.pyplot as plt\n",
    "import numpy as np"
   ]
  },
  {
   "cell_type": "markdown",
   "metadata": {},
   "source": [
    "# single neutrino mass"
   ]
  },
  {
   "cell_type": "code",
   "execution_count": 2,
   "metadata": {},
   "outputs": [
    {
     "name": "stdout",
     "output_type": "stream",
     "text": [
      "Loading the PkcbLin emulator...\n",
      "Using 513 training samples.\n",
      "Loading the PknnLin emulator...\n",
      "Using 512 training samples [remove c0001 (no massive neutrino)].\n",
      "The neutrino mass is treated as a single massive component.\n"
     ]
    }
   ],
   "source": [
    "import sys\n",
    "sys.path.append('../')\n",
    "from CEmulator.Emulator import CBaseEmulator\n",
    "csstemu = CBaseEmulator(verbose=True) # default neutrino_mass_split='single'"
   ]
  },
  {
   "cell_type": "markdown",
   "metadata": {},
   "source": [
    "## $\\sigma_{8, \\mathrm{cb}}$\n",
    "$\\sigma_{8, \\mathrm{cb}}$ means the $\\sigma_8$ of the cb components (without the massive neutrino). When mnu = 0.0 eV, the $\\sigma_{8, \\mathrm{cb}}$ should be the same as $\\sigma_{8}$"
   ]
  },
  {
   "cell_type": "code",
   "execution_count": 3,
   "metadata": {},
   "outputs": [],
   "source": [
    "Ob = 0.05\n",
    "Oc = 0.25\n",
    "h = 0.7\n",
    "ns = 0.96\n",
    "As = 2.1e-9\n",
    "w0 = -1\n",
    "wa = 0\n",
    "mnu = 0.00\n",
    "csstemu.set_cosmos(Omegab=Ob, Omegac=Oc, As=As, mnu=mnu,\n",
    "                   H0=h*100, ns=ns, w=w0, wa=wa)"
   ]
  },
  {
   "cell_type": "code",
   "execution_count": 4,
   "metadata": {},
   "outputs": [
    {
     "name": "stdout",
     "output_type": "stream",
     "text": [
      "CPU times: user 4.1 ms, sys: 31 µs, total: 4.13 ms\n",
      "Wall time: 3.78 ms\n",
      "Emulator:  0.8256136724964752\n",
      "CPU times: user 2.97 s, sys: 13.3 ms, total: 2.98 s\n",
      "Wall time: 3.2 s\n",
      "CAMB:      0.8251244044446654\n",
      "CPU times: user 911 ms, sys: 6.17 ms, total: 917 ms\n",
      "Wall time: 923 ms\n",
      "CLASS:     0.8250463943162953\n"
     ]
    }
   ],
   "source": [
    "%time sigma8_emulator = csstemu.get_sigma8_cb(type='Emulator')\n",
    "print('Emulator: ', sigma8_emulator)\n",
    "%time sigma8_camb     = csstemu.get_sigma8_cb(type='CAMB')\n",
    "print('CAMB:     ', sigma8_camb)\n",
    "%time sigma8_class    = csstemu.get_sigma8_cb(type='CLASS')\n",
    "print('CLASS:    ', sigma8_class)"
   ]
  },
  {
   "cell_type": "code",
   "execution_count": 5,
   "metadata": {},
   "outputs": [
    {
     "name": "stdout",
     "output_type": "stream",
     "text": [
      "Emulator/CAMB  1.0005929627692192\n",
      "Emulator/CLASS 1.0006875712494325\n",
      "CAMB/CLASS     1.000094552414152\n"
     ]
    }
   ],
   "source": [
    "print('Emulator/CAMB ',  sigma8_emulator/sigma8_camb)\n",
    "print('Emulator/CLASS',  sigma8_emulator/sigma8_class)\n",
    "print('CAMB/CLASS    ',  sigma8_camb/sigma8_class)"
   ]
  },
  {
   "cell_type": "markdown",
   "metadata": {},
   "source": [
    "## $\\sigma_{8}$\n",
    "\n",
    "Commonly used $\\sigma_{8}$ include both the cb matter and massive neutrino component."
   ]
  },
  {
   "cell_type": "code",
   "execution_count": 6,
   "metadata": {},
   "outputs": [],
   "source": [
    "Ob = 0.05\n",
    "Oc = 0.25\n",
    "h = 0.7\n",
    "ns = 0.96\n",
    "As = 2.1e-9\n",
    "w0 = -1\n",
    "wa = 0\n",
    "mnu = 0.06\n",
    "csstemu.set_cosmos(Omegab=Ob, Omegac=Oc, As=As, mnu=mnu,\n",
    "                   H0=h*100, ns=ns, w=w0, wa=wa)"
   ]
  },
  {
   "cell_type": "code",
   "execution_count": 7,
   "metadata": {},
   "outputs": [
    {
     "name": "stdout",
     "output_type": "stream",
     "text": [
      "CPU times: user 6.74 ms, sys: 1.97 ms, total: 8.72 ms\n",
      "Wall time: 8.41 ms\n",
      "Emulator:  0.8133930551550191\n",
      "CPU times: user 4.36 s, sys: 6.4 ms, total: 4.37 s\n",
      "Wall time: 4.38 s\n",
      "CAMB:      0.8138252232299025\n",
      "CPU times: user 2.52 s, sys: 1.84 ms, total: 2.52 s\n",
      "Wall time: 2.53 s\n",
      "CLASS:     0.8134851389933717\n"
     ]
    }
   ],
   "source": [
    "%time sigma8_emulator = csstemu.get_sigma8(type='Emulator')\n",
    "print('Emulator: ', sigma8_emulator)\n",
    "%time sigma8_camb     = csstemu.get_sigma8(type='CAMB')\n",
    "print('CAMB:     ', sigma8_camb)\n",
    "%time sigma8_class    = csstemu.get_sigma8(type='CLASS')\n",
    "print('CLASS:    ', sigma8_class)"
   ]
  },
  {
   "cell_type": "code",
   "execution_count": 8,
   "metadata": {},
   "outputs": [
    {
     "name": "stdout",
     "output_type": "stream",
     "text": [
      "Emulator/CAMB  0.9994689669691385\n",
      "Emulator/CLASS 0.9998868032937067\n",
      "CAMB/CLASS     1.000418058327349\n"
     ]
    }
   ],
   "source": [
    "print('Emulator/CAMB ',  sigma8_emulator/sigma8_camb)\n",
    "print('Emulator/CLASS',  sigma8_emulator/sigma8_class)\n",
    "print('CAMB/CLASS    ',  sigma8_camb/sigma8_class)"
   ]
  },
  {
   "cell_type": "markdown",
   "metadata": {},
   "source": [
    "# degenerate neutrino mass"
   ]
  },
  {
   "cell_type": "code",
   "execution_count": 9,
   "metadata": {},
   "outputs": [
    {
     "name": "stdout",
     "output_type": "stream",
     "text": [
      "Loading the PkcbLin emulator...\n",
      "Using 513 training samples.\n",
      "Loading the PknnLin emulator...\n",
      "Using 512 training samples [remove c0001 (no massive neutrino)].\n",
      "Loading the Tkcb_lin_N3_N1 emulator...\n",
      "Using 513 training samples.\n",
      "Loading the Tkmm_lin_N3_N1 emulator...\n",
      "Using 513 training samples.\n"
     ]
    }
   ],
   "source": [
    "import sys\n",
    "sys.path.append('../')\n",
    "from CEmulator.Emulator import CBaseEmulator\n",
    "csstemu = CBaseEmulator(verbose=True, neutrino_mass_split='degenerate')"
   ]
  },
  {
   "cell_type": "markdown",
   "metadata": {},
   "source": [
    "## $\\sigma_{8, \\mathrm{cb}}$"
   ]
  },
  {
   "cell_type": "code",
   "execution_count": 10,
   "metadata": {},
   "outputs": [],
   "source": [
    "Ob = 0.05\n",
    "Oc = 0.25\n",
    "h = 0.7\n",
    "ns = 0.96\n",
    "As = 2.1e-9\n",
    "w0 = -1\n",
    "wa = 0\n",
    "mnu = 0.00\n",
    "csstemu.set_cosmos(Omegab=Ob, Omegac=Oc, As=As, mnu=mnu,\n",
    "                   H0=h*100, ns=ns, w=w0, wa=wa)"
   ]
  },
  {
   "cell_type": "code",
   "execution_count": 11,
   "metadata": {},
   "outputs": [
    {
     "name": "stdout",
     "output_type": "stream",
     "text": [
      "CPU times: user 8.27 ms, sys: 4 µs, total: 8.28 ms\n",
      "Wall time: 7.97 ms\n",
      "Emulator:  0.8251993193327635\n",
      "CPU times: user 2.82 s, sys: 2.87 ms, total: 2.83 s\n",
      "Wall time: 2.83 s\n",
      "CAMB:      0.8251244044446654\n",
      "CPU times: user 915 ms, sys: 802 µs, total: 915 ms\n",
      "Wall time: 917 ms\n",
      "CLASS:     0.8250463943162953\n"
     ]
    }
   ],
   "source": [
    "%time sigma8_emulator = csstemu.get_sigma8(type='Emulator')\n",
    "print('Emulator: ', sigma8_emulator)\n",
    "%time sigma8_camb     = csstemu.get_sigma8(type='CAMB')\n",
    "print('CAMB:     ', sigma8_camb)\n",
    "%time sigma8_class    = csstemu.get_sigma8(type='CLASS')\n",
    "print('CLASS:    ', sigma8_class)"
   ]
  },
  {
   "cell_type": "code",
   "execution_count": 12,
   "metadata": {},
   "outputs": [
    {
     "name": "stdout",
     "output_type": "stream",
     "text": [
      "Emulator/CAMB  1.0000907922341098\n",
      "Emulator/CLASS 1.0001853532328868\n",
      "CAMB/CLASS     1.000094552414152\n"
     ]
    }
   ],
   "source": [
    "print('Emulator/CAMB ',  sigma8_emulator/sigma8_camb)\n",
    "print('Emulator/CLASS',  sigma8_emulator/sigma8_class)\n",
    "print('CAMB/CLASS    ',  sigma8_camb/sigma8_class)"
   ]
  },
  {
   "cell_type": "markdown",
   "metadata": {},
   "source": [
    "## $\\sigma_{8}$"
   ]
  },
  {
   "cell_type": "code",
   "execution_count": 13,
   "metadata": {},
   "outputs": [
    {
     "name": "stdout",
     "output_type": "stream",
     "text": [
      "degenerate\n"
     ]
    }
   ],
   "source": [
    "Ob = 0.05\n",
    "Oc = 0.25\n",
    "h = 0.7\n",
    "ns = 0.96\n",
    "As = 2.1e-9\n",
    "w0 = -1\n",
    "wa = 0\n",
    "mnu = 0.06\n",
    "csstemu.set_cosmos(Omegab=Ob, Omegac=Oc, As=As, mnu=mnu,\n",
    "                   H0=h*100, ns=ns, w=w0, wa=wa)\n",
    "print(csstemu.neutrino_mass_split)"
   ]
  },
  {
   "cell_type": "code",
   "execution_count": 14,
   "metadata": {},
   "outputs": [
    {
     "name": "stdout",
     "output_type": "stream",
     "text": [
      "CPU times: user 8.12 ms, sys: 1.59 ms, total: 9.71 ms\n",
      "Wall time: 9.38 ms\n",
      "Emulator:  0.8148976744469172\n",
      "CPU times: user 4.82 s, sys: 862 µs, total: 4.82 s\n",
      "Wall time: 4.83 s\n",
      "CAMB:      0.815649107231685\n",
      "CPU times: user 6.87 s, sys: 0 ns, total: 6.87 s\n",
      "Wall time: 6.89 s\n",
      "CLASS:     0.814964243553506\n"
     ]
    }
   ],
   "source": [
    "%time sigma8_emulator = csstemu.get_sigma8(type='Emulator')\n",
    "print('Emulator: ', sigma8_emulator)\n",
    "%time sigma8_camb     = csstemu.get_sigma8(type='CAMB')\n",
    "print('CAMB:     ', sigma8_camb)\n",
    "%time sigma8_class    = csstemu.get_sigma8(type='CLASS')\n",
    "print('CLASS:    ', sigma8_class)"
   ]
  },
  {
   "cell_type": "code",
   "execution_count": 15,
   "metadata": {},
   "outputs": [
    {
     "name": "stdout",
     "output_type": "stream",
     "text": [
      "Emulator/CAMB  0.999078730328881\n",
      "Emulator/CLASS 0.9999183165309209\n",
      "CAMB/CLASS     1.0008403604005898\n"
     ]
    }
   ],
   "source": [
    "print('Emulator/CAMB ',  sigma8_emulator/sigma8_camb)\n",
    "print('Emulator/CLASS',  sigma8_emulator/sigma8_class)\n",
    "print('CAMB/CLASS    ',  sigma8_camb/sigma8_class)"
   ]
  },
  {
   "cell_type": "code",
   "execution_count": null,
   "metadata": {},
   "outputs": [],
   "source": []
  }
 ],
 "metadata": {
  "kernelspec": {
   "display_name": "czlsst",
   "language": "python",
   "name": "czlsst"
  },
  "language_info": {
   "codemirror_mode": {
    "name": "ipython",
    "version": 3
   },
   "file_extension": ".py",
   "mimetype": "text/x-python",
   "name": "python",
   "nbconvert_exporter": "python",
   "pygments_lexer": "ipython3",
   "version": "3.9.7"
  }
 },
 "nbformat": 4,
 "nbformat_minor": 2
}
