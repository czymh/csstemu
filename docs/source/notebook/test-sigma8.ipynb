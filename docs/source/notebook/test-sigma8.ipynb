{
 "cells": [
  {
   "cell_type": "code",
   "execution_count": 1,
   "metadata": {},
   "outputs": [],
   "source": [
    "%matplotlib inline\n",
    "%config InlineBackend.figure_format = 'retina'\n",
    "import matplotlib.pyplot as plt\n",
    "import numpy as np"
   ]
  },
  {
   "cell_type": "markdown",
   "metadata": {},
   "source": [
    "# single neutrino mass"
   ]
  },
  {
   "cell_type": "code",
   "execution_count": 2,
   "metadata": {},
   "outputs": [
    {
     "name": "stdout",
     "output_type": "stream",
     "text": [
      "Loading the PkcbLin emulator...\n",
      "Using 513 training samples.\n",
      "Loading the PknnLin emulator...\n",
      "Using 512 training samples [remove c0001 (no massive neutrino)].\n",
      "The neutrino mass is treated as a single massive component.\n"
     ]
    }
   ],
   "source": [
    "import sys\n",
    "sys.path.append('../')\n",
    "from CEmulator.Emulator import CBaseEmulator\n",
    "csstemu = CBaseEmulator(verbose=True) # default neutrino_mass_split='single'"
   ]
  },
  {
   "cell_type": "markdown",
   "metadata": {},
   "source": [
    "## $\\sigma_{8, \\mathrm{cb}}$\n",
    "$\\sigma_{8, \\mathrm{cb}}$ means the $\\sigma_8$ of the cb components (without the massive neutrino). When mnu = 0.0 eV, the $\\sigma_{8, \\mathrm{cb}}$ should be the same as $\\sigma_{8}$"
   ]
  },
  {
   "cell_type": "code",
   "execution_count": 3,
   "metadata": {},
   "outputs": [],
   "source": [
    "Ob = 0.05\n",
    "Oc = 0.25\n",
    "h = 0.7\n",
    "ns = 0.96\n",
    "As = 2.1e-9\n",
    "w0 = -1\n",
    "wa = 0\n",
    "mnu = 0.00\n",
    "csstemu.set_cosmos(Omegab=Ob, Omegac=Oc, As=As, mnu=mnu,\n",
    "                   H0=h*100, ns=ns, w=w0, wa=wa)"
   ]
  },
  {
   "cell_type": "code",
   "execution_count": 4,
   "metadata": {},
   "outputs": [
    {
     "name": "stdout",
     "output_type": "stream",
     "text": [
      "CPU times: user 3.84 ms, sys: 727 µs, total: 4.56 ms\n",
      "Wall time: 4.2 ms\n",
      "Emulator:  0.8256041401171753\n",
      "CPU times: user 2.93 s, sys: 27.9 ms, total: 2.96 s\n",
      "Wall time: 3.62 s\n",
      "CAMB:      0.8251244044446654\n",
      "CPU times: user 991 ms, sys: 27.9 ms, total: 1.02 s\n",
      "Wall time: 1.1 s\n",
      "CLASS:     0.8250704348558016\n"
     ]
    }
   ],
   "source": [
    "%time sigma8_emulator = csstemu.get_sigma8_cb(type='Emulator')\n",
    "print('Emulator: ', sigma8_emulator)\n",
    "%time sigma8_camb     = csstemu.get_sigma8_cb(type='CAMB')\n",
    "print('CAMB:     ', sigma8_camb)\n",
    "%time sigma8_class    = csstemu.get_sigma8_cb(type='CLASS')\n",
    "print('CLASS:    ', sigma8_class)"
   ]
  },
  {
   "cell_type": "code",
   "execution_count": 5,
   "metadata": {},
   "outputs": [
    {
     "name": "stdout",
     "output_type": "stream",
     "text": [
      "Emulator/CAMB  1.0005814101121306\n",
      "Emulator/CLASS 1.0006468602422616\n",
      "CAMB/CLASS     1.0000654120988752\n"
     ]
    }
   ],
   "source": [
    "print('Emulator/CAMB ',  sigma8_emulator/sigma8_camb)\n",
    "print('Emulator/CLASS',  sigma8_emulator/sigma8_class)\n",
    "print('CAMB/CLASS    ',  sigma8_camb/sigma8_class)"
   ]
  },
  {
   "cell_type": "markdown",
   "metadata": {},
   "source": [
    "## $\\sigma_{8}$\n",
    "\n",
    "Commonly used $\\sigma_{8}$ include both the cb matter and massive neutrino component."
   ]
  },
  {
   "cell_type": "code",
   "execution_count": 6,
   "metadata": {},
   "outputs": [],
   "source": [
    "Ob = 0.05\n",
    "Oc = 0.25\n",
    "h = 0.7\n",
    "ns = 0.96\n",
    "As = 2.1e-9\n",
    "w0 = -1\n",
    "wa = 0\n",
    "mnu = 0.06\n",
    "csstemu.set_cosmos(Omegab=Ob, Omegac=Oc, As=As, mnu=mnu,\n",
    "                   H0=h*100, ns=ns, w=w0, wa=wa)"
   ]
  },
  {
   "cell_type": "code",
   "execution_count": 7,
   "metadata": {},
   "outputs": [
    {
     "name": "stdout",
     "output_type": "stream",
     "text": [
      "CPU times: user 7.14 ms, sys: 2.01 ms, total: 9.14 ms\n",
      "Wall time: 8.82 ms\n",
      "Emulator:  0.8133836766724952\n",
      "CPU times: user 4.3 s, sys: 13 ms, total: 4.31 s\n",
      "Wall time: 4.32 s\n",
      "CAMB:      0.8138252232299025\n",
      "CPU times: user 2.89 s, sys: 14 ms, total: 2.9 s\n",
      "Wall time: 2.91 s\n",
      "CLASS:     0.8135117574801464\n"
     ]
    }
   ],
   "source": [
    "%time sigma8_emulator = csstemu.get_sigma8(type='Emulator')\n",
    "print('Emulator: ', sigma8_emulator)\n",
    "%time sigma8_camb     = csstemu.get_sigma8(type='CAMB')\n",
    "print('CAMB:     ', sigma8_camb)\n",
    "%time sigma8_class    = csstemu.get_sigma8(type='CLASS')\n",
    "print('CLASS:    ', sigma8_class)"
   ]
  },
  {
   "cell_type": "code",
   "execution_count": 8,
   "metadata": {},
   "outputs": [
    {
     "name": "stdout",
     "output_type": "stream",
     "text": [
      "Emulator/CAMB  0.9994574430174886\n",
      "Emulator/CLASS 0.999842558135794\n",
      "CAMB/CLASS     1.0003853241786291\n"
     ]
    }
   ],
   "source": [
    "print('Emulator/CAMB ',  sigma8_emulator/sigma8_camb)\n",
    "print('Emulator/CLASS',  sigma8_emulator/sigma8_class)\n",
    "print('CAMB/CLASS    ',  sigma8_camb/sigma8_class)"
   ]
  },
  {
   "cell_type": "markdown",
   "metadata": {},
   "source": [
    "# degenerate neutrino mass"
   ]
  },
  {
   "cell_type": "code",
   "execution_count": 9,
   "metadata": {},
   "outputs": [
    {
     "name": "stdout",
     "output_type": "stream",
     "text": [
      "Loading the PkcbLin emulator...\n",
      "Using 513 training samples.\n",
      "Loading the PknnLin emulator...\n",
      "Using 512 training samples [remove c0001 (no massive neutrino)].\n",
      "Loading the Tkcb_lin_N3_N1 emulator...\n",
      "Using 513 training samples.\n",
      "Loading the Tkmm_lin_N3_N1 emulator...\n",
      "Using 513 training samples.\n"
     ]
    }
   ],
   "source": [
    "import sys\n",
    "sys.path.append('../')\n",
    "from CEmulator.Emulator import CBaseEmulator\n",
    "csstemu = CBaseEmulator(verbose=True, neutrino_mass_split='degenerate')"
   ]
  },
  {
   "cell_type": "markdown",
   "metadata": {},
   "source": [
    "## $\\sigma_{8, \\mathrm{cb}}$"
   ]
  },
  {
   "cell_type": "code",
   "execution_count": 10,
   "metadata": {},
   "outputs": [],
   "source": [
    "Ob = 0.05\n",
    "Oc = 0.25\n",
    "h = 0.7\n",
    "ns = 0.96\n",
    "As = 2.1e-9\n",
    "w0 = -1\n",
    "wa = 0\n",
    "mnu = 0.00\n",
    "csstemu.set_cosmos(Omegab=Ob, Omegac=Oc, As=As, mnu=mnu,\n",
    "                   H0=h*100, ns=ns, w=w0, wa=wa)"
   ]
  },
  {
   "cell_type": "code",
   "execution_count": 11,
   "metadata": {},
   "outputs": [
    {
     "name": "stdout",
     "output_type": "stream",
     "text": [
      "CPU times: user 7.43 ms, sys: 1.97 ms, total: 9.4 ms\n",
      "Wall time: 9.05 ms\n",
      "Emulator:  0.8251897903850405\n",
      "CPU times: user 2.77 s, sys: 13 ms, total: 2.79 s\n",
      "Wall time: 2.79 s\n",
      "CAMB:      0.8251244044446654\n",
      "CPU times: user 984 ms, sys: 7.99 ms, total: 992 ms\n",
      "Wall time: 1.14 s\n",
      "CLASS:     0.8250704348558016\n"
     ]
    }
   ],
   "source": [
    "%time sigma8_emulator = csstemu.get_sigma8(type='Emulator')\n",
    "print('Emulator: ', sigma8_emulator)\n",
    "%time sigma8_camb     = csstemu.get_sigma8(type='CAMB')\n",
    "print('CAMB:     ', sigma8_camb)\n",
    "%time sigma8_class    = csstemu.get_sigma8(type='CLASS')\n",
    "print('CLASS:    ', sigma8_class)"
   ]
  },
  {
   "cell_type": "code",
   "execution_count": 12,
   "metadata": {},
   "outputs": [
    {
     "name": "stdout",
     "output_type": "stream",
     "text": [
      "Emulator/CAMB  1.0000792437358814\n",
      "Emulator/CLASS 1.0001446610182556\n",
      "CAMB/CLASS     1.0000654120988752\n"
     ]
    }
   ],
   "source": [
    "print('Emulator/CAMB ',  sigma8_emulator/sigma8_camb)\n",
    "print('Emulator/CLASS',  sigma8_emulator/sigma8_class)\n",
    "print('CAMB/CLASS    ',  sigma8_camb/sigma8_class)"
   ]
  },
  {
   "cell_type": "markdown",
   "metadata": {},
   "source": [
    "## $\\sigma_{8}$"
   ]
  },
  {
   "cell_type": "code",
   "execution_count": 13,
   "metadata": {},
   "outputs": [
    {
     "name": "stdout",
     "output_type": "stream",
     "text": [
      "degenerate\n"
     ]
    }
   ],
   "source": [
    "Ob = 0.05\n",
    "Oc = 0.25\n",
    "h = 0.7\n",
    "ns = 0.96\n",
    "As = 2.1e-9\n",
    "w0 = -1\n",
    "wa = 0\n",
    "mnu = 0.06\n",
    "csstemu.set_cosmos(Omegab=Ob, Omegac=Oc, As=As, mnu=mnu,\n",
    "                   H0=h*100, ns=ns, w=w0, wa=wa)\n",
    "print(csstemu.neutrino_mass_split)"
   ]
  },
  {
   "cell_type": "code",
   "execution_count": 14,
   "metadata": {},
   "outputs": [
    {
     "name": "stdout",
     "output_type": "stream",
     "text": [
      "CPU times: user 7.72 ms, sys: 2.98 ms, total: 10.7 ms\n",
      "Wall time: 10.4 ms\n",
      "Emulator:  0.8148882730802531\n",
      "CPU times: user 4.87 s, sys: 3.99 ms, total: 4.88 s\n",
      "Wall time: 4.89 s\n",
      "CAMB:      0.815649107231685\n",
      "CPU times: user 7.36 s, sys: 9.06 ms, total: 7.37 s\n",
      "Wall time: 7.39 s\n",
      "CLASS:     0.8149908494556329\n"
     ]
    }
   ],
   "source": [
    "%time sigma8_emulator = csstemu.get_sigma8(type='Emulator')\n",
    "print('Emulator: ', sigma8_emulator)\n",
    "%time sigma8_camb     = csstemu.get_sigma8(type='CAMB')\n",
    "print('CAMB:     ', sigma8_camb)\n",
    "%time sigma8_class    = csstemu.get_sigma8(type='CLASS')\n",
    "print('CLASS:    ', sigma8_class)"
   ]
  },
  {
   "cell_type": "code",
   "execution_count": 15,
   "metadata": {},
   "outputs": [
    {
     "name": "stdout",
     "output_type": "stream",
     "text": [
      "Emulator/CAMB  0.9990672040897413\n",
      "Emulator/CLASS 0.9998741380035759\n",
      "CAMB/CLASS     1.0008076873212648\n"
     ]
    }
   ],
   "source": [
    "print('Emulator/CAMB ',  sigma8_emulator/sigma8_camb)\n",
    "print('Emulator/CLASS',  sigma8_emulator/sigma8_class)\n",
    "print('CAMB/CLASS    ',  sigma8_camb/sigma8_class)"
   ]
  },
  {
   "cell_type": "code",
   "execution_count": null,
   "metadata": {},
   "outputs": [],
   "source": []
  }
 ],
 "metadata": {
  "kernelspec": {
   "display_name": "csstemu-test",
   "language": "python",
   "name": "csstemu-test"
  }
 },
 "nbformat": 4,
 "nbformat_minor": 2
}
